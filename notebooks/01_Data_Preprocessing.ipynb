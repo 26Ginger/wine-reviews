{
 "cells": [
  {
   "cell_type": "markdown",
   "metadata": {
    "id": "a8VeexFlqOlS"
   },
   "source": [
    "# 🍷 Анализ рынка вина: что влияет на цену и рейтинг?"
   ]
  },
  {
   "cell_type": "markdown",
   "metadata": {},
   "source": [
    "## Описание проекта \n",
    "Исследование данных о винах для выявления факторов, влияющих на цену и рейтинг. \n",
    "Сравнительный анализ традиционных (Старый Свет) и новых (Новый Свет) винодельческих регионов.\n",
    "\n",
    "**Источник данных:** [Kaggle - Wine Reviews](https://www.kaggle.com/datasets/zynicide/wine-reviews)"
   ]
  },
  {
   "cell_type": "markdown",
   "metadata": {},
   "source": [
    "## Задачи этапа \"Предобработка данных\":\n",
    "* Очистка данных и удаление дубликатов\n",
    "* Обработка пропущенных значений\n",
    "* Feature Engineering — создание новых признаков\n",
    "* Анализ базовой статистики\n",
    "* Сохранение очищенного набора данных"
   ]
  },
  {
   "cell_type": "markdown",
   "metadata": {},
   "source": [
    "## Оглавление"
   ]
  },
  {
   "cell_type": "markdown",
   "metadata": {},
   "source": [
    "1. Импорт библиотек\n",
    "2. Загрузка данных\n",
    "3. Удаление дубликатов\n",
    "4. Обработка пропущенных значений\n",
    "5. Feature Engineering — создание новых признаков\n",
    "6. Описательная статистика\n",
    "7. Сохранение очищенного датасета\n",
    "8. Выводы по этапу предобработки данных"
   ]
  },
  {
   "cell_type": "markdown",
   "metadata": {},
   "source": [
    "---"
   ]
  },
  {
   "cell_type": "markdown",
   "metadata": {
    "id": "xU1neCj09-Cg",
    "jp-MarkdownHeadingCollapsed": true
   },
   "source": [
    "## Описание данных\n",
    "Набор данных состоит из 13 признаков (2 числовых и 11 категориальных):\n",
    "\n",
    "| Признак | Тип | Описание |\n",
    "|---------|-----|----------|\n",
    "| `country` | Категориальный | Страна происхождения вина |\n",
    "| `description` | Текстовый | Описание вкусового профиля вина |\n",
    "| `designation` | Категориальный | Виноградник, ягоды которого используются при изготовлении вина |\n",
    "| `points` | Числовой | Оценка вина по шкале от 1 до 100 |\n",
    "| `price` | Числовой | Стоимость одной бутылки вина |\n",
    "| `province` | Категориальный | Место изготовления вина (провинция или штат) |\n",
    "| `region_1` | Категориальный | Винодельческая область в провинции |\n",
    "| `region_2` | Категориальный | Конкретная зона виноделия в области |\n",
    "| `variety` | Категориальный | Сорт винограда для изготовления вина |\n",
    "| `winery` | Категориальный | Винодельня-производитель вина |\n",
    "| `taster_name` | Текстовый | Имя автора рецензии            \n",
    "| `taster_twitter_handle` | Текстовый | Твиттер-аккаунт рецензента"
   ]
  },
  {
   "cell_type": "markdown",
   "metadata": {
    "jp-MarkdownHeadingCollapsed": true
   },
   "source": [
    "## 1. Импорт библиотек"
   ]
  },
  {
   "cell_type": "code",
   "execution_count": 1,
   "metadata": {
    "ExecuteTime": {
     "end_time": "2022-09-28T11:37:53.183584Z",
     "start_time": "2022-09-28T11:37:53.171400Z"
    },
    "id": "AuUnHg0GVBp5"
   },
   "outputs": [],
   "source": [
    "import pandas as pd\n",
    "import numpy as np\n",
    "\n",
    "import matplotlib.pyplot as plt\n",
    "import matplotlib.cm as cm\n",
    "import seaborn as sns\n",
    "sns.set_theme(style='white', palette='rocket', color_codes=True)\n",
    "import squarify\n",
    "\n",
    "from wordcloud import WordCloud, STOPWORDS\n",
    "from textblob import TextBlob\n",
    "\n",
    "from scipy.stats import shapiro\n",
    "\n",
    "from sklearn.preprocessing import MinMaxScaler\n",
    "from scipy import stats as st\n",
    "import scipy\n",
    "\n",
    "import warnings; warnings.filterwarnings('ignore', category=FutureWarning)"
   ]
  },
  {
   "cell_type": "markdown",
   "metadata": {},
   "source": [
    "## 2. Загрузка данных"
   ]
  },
  {
   "cell_type": "markdown",
   "metadata": {
    "id": "VEHSXVFNoM6F"
   },
   "source": [
    "Данные взяты из открытого источника (платформы Kaggle) в формате *.csv"
   ]
  },
  {
   "cell_type": "code",
   "execution_count": 2,
   "metadata": {
    "id": "BQowqxmYVBp6",
    "outputId": "d82fc876-b4e6-4e0f-8a90-74753aa22751"
   },
   "outputs": [
    {
     "data": {
      "text/html": [
       "<div>\n",
       "<style scoped>\n",
       "    .dataframe tbody tr th:only-of-type {\n",
       "        vertical-align: middle;\n",
       "    }\n",
       "\n",
       "    .dataframe tbody tr th {\n",
       "        vertical-align: top;\n",
       "    }\n",
       "\n",
       "    .dataframe thead th {\n",
       "        text-align: right;\n",
       "    }\n",
       "</style>\n",
       "<table border=\"1\" class=\"dataframe\">\n",
       "  <thead>\n",
       "    <tr style=\"text-align: right;\">\n",
       "      <th></th>\n",
       "      <th>Unnamed: 0</th>\n",
       "      <th>country</th>\n",
       "      <th>description</th>\n",
       "      <th>designation</th>\n",
       "      <th>points</th>\n",
       "      <th>price</th>\n",
       "      <th>province</th>\n",
       "      <th>region_1</th>\n",
       "      <th>region_2</th>\n",
       "      <th>taster_name</th>\n",
       "      <th>taster_twitter_handle</th>\n",
       "      <th>title</th>\n",
       "      <th>variety</th>\n",
       "      <th>winery</th>\n",
       "    </tr>\n",
       "  </thead>\n",
       "  <tbody>\n",
       "    <tr>\n",
       "      <th>75846</th>\n",
       "      <td>75846</td>\n",
       "      <td>US</td>\n",
       "      <td>An apt name for this richly fruited and supple...</td>\n",
       "      <td>Velvet Sisters</td>\n",
       "      <td>90</td>\n",
       "      <td>50.0</td>\n",
       "      <td>California</td>\n",
       "      <td>Anderson Valley</td>\n",
       "      <td>NaN</td>\n",
       "      <td>NaN</td>\n",
       "      <td>NaN</td>\n",
       "      <td>Hartford 1999 Velvet Sisters Pinot Noir (Ander...</td>\n",
       "      <td>Pinot Noir</td>\n",
       "      <td>Hartford</td>\n",
       "    </tr>\n",
       "    <tr>\n",
       "      <th>11858</th>\n",
       "      <td>11858</td>\n",
       "      <td>Italy</td>\n",
       "      <td>Frappato is usually made as a dry red wine and...</td>\n",
       "      <td>Uniku 500ml</td>\n",
       "      <td>84</td>\n",
       "      <td>26.0</td>\n",
       "      <td>Sicily &amp; Sardinia</td>\n",
       "      <td>Sicilia</td>\n",
       "      <td>NaN</td>\n",
       "      <td>NaN</td>\n",
       "      <td>NaN</td>\n",
       "      <td>Terre di Giurfo 2009 Uniku 500ml Frappato (Sic...</td>\n",
       "      <td>Frappato</td>\n",
       "      <td>Terre di Giurfo</td>\n",
       "    </tr>\n",
       "  </tbody>\n",
       "</table>\n",
       "</div>"
      ],
      "text/plain": [
       "       Unnamed: 0 country                                        description  \\\n",
       "75846       75846      US  An apt name for this richly fruited and supple...   \n",
       "11858       11858   Italy  Frappato is usually made as a dry red wine and...   \n",
       "\n",
       "          designation  points  price           province         region_1  \\\n",
       "75846  Velvet Sisters      90   50.0         California  Anderson Valley   \n",
       "11858     Uniku 500ml      84   26.0  Sicily & Sardinia          Sicilia   \n",
       "\n",
       "      region_2 taster_name taster_twitter_handle  \\\n",
       "75846      NaN         NaN                   NaN   \n",
       "11858      NaN         NaN                   NaN   \n",
       "\n",
       "                                                   title     variety  \\\n",
       "75846  Hartford 1999 Velvet Sisters Pinot Noir (Ander...  Pinot Noir   \n",
       "11858  Terre di Giurfo 2009 Uniku 500ml Frappato (Sic...    Frappato   \n",
       "\n",
       "                winery  \n",
       "75846         Hartford  \n",
       "11858  Terre di Giurfo  "
      ]
     },
     "execution_count": 2,
     "metadata": {},
     "output_type": "execute_result"
    }
   ],
   "source": [
    "df = pd.read_csv('../data/winemag-data-130k-v2.csv')\n",
    "df.sample(2)"
   ]
  },
  {
   "cell_type": "markdown",
   "metadata": {
    "id": "ChZQKfnkqE1j"
   },
   "source": [
    "Для дальнейшего анализа необходимо изучить данные.  \n",
    "Первичный осмотр данных: df.info()"
   ]
  },
  {
   "cell_type": "code",
   "execution_count": 3,
   "metadata": {
    "id": "cTR5ZQ6uVBp7",
    "outputId": "39eb0faf-3606-4ffc-d04a-e72a3682f0c3"
   },
   "outputs": [
    {
     "name": "stdout",
     "output_type": "stream",
     "text": [
      "<class 'pandas.core.frame.DataFrame'>\n",
      "RangeIndex: 129971 entries, 0 to 129970\n",
      "Data columns (total 14 columns):\n",
      " #   Column                 Non-Null Count   Dtype  \n",
      "---  ------                 --------------   -----  \n",
      " 0   Unnamed: 0             129971 non-null  int64  \n",
      " 1   country                129908 non-null  object \n",
      " 2   description            129971 non-null  object \n",
      " 3   designation            92506 non-null   object \n",
      " 4   points                 129971 non-null  int64  \n",
      " 5   price                  120975 non-null  float64\n",
      " 6   province               129908 non-null  object \n",
      " 7   region_1               108724 non-null  object \n",
      " 8   region_2               50511 non-null   object \n",
      " 9   taster_name            103727 non-null  object \n",
      " 10  taster_twitter_handle  98758 non-null   object \n",
      " 11  title                  129971 non-null  object \n",
      " 12  variety                129970 non-null  object \n",
      " 13  winery                 129971 non-null  object \n",
      "dtypes: float64(1), int64(2), object(11)\n",
      "memory usage: 13.9+ MB\n"
     ]
    }
   ],
   "source": [
    "df.info()"
   ]
  },
  {
   "cell_type": "markdown",
   "metadata": {
    "id": "emR89hrYVBp7"
   },
   "source": [
    "Количество значений в столбцах отличается. Это говорит о том, что в данных есть пустые значения.  \n",
    "Признаки `points` и `price` - числовые."
   ]
  },
  {
   "cell_type": "markdown",
   "metadata": {},
   "source": [
    "## 3. Удаление дубликатов"
   ]
  },
  {
   "cell_type": "markdown",
   "metadata": {},
   "source": [
    "`Unnamed: 0` - удаляем технический индекс (создаёт видимость отсутствия дубликатов)"
   ]
  },
  {
   "cell_type": "code",
   "execution_count": 4,
   "metadata": {},
   "outputs": [],
   "source": [
    "columns_to_drop = ['Unnamed: 0'] \n",
    "df = df.drop(columns_to_drop, axis=1)"
   ]
  },
  {
   "cell_type": "code",
   "execution_count": 5,
   "metadata": {},
   "outputs": [
    {
     "name": "stdout",
     "output_type": "stream",
     "text": [
      "Дубликаты до очистки: 9983\n",
      "📊 Размер датасета до очистки: 129,971 строк\n"
     ]
    }
   ],
   "source": [
    "print('Дубликаты до очистки:', df.duplicated().sum())\n",
    "print(f'📊 Размер датасета до очистки: {df.shape[0]:,} строк')"
   ]
  },
  {
   "cell_type": "markdown",
   "metadata": {},
   "source": [
    "Было обнаружено 9983 полных дубликата - идентичных записей по всем признакам, включая текстовое описание.  \n",
    "**Принятое решение:** Удалить все дубликаты, оставив первое вхождение, чтобы избежать смещения в анализе."
   ]
  },
  {
   "cell_type": "code",
   "execution_count": 6,
   "metadata": {},
   "outputs": [
    {
     "name": "stdout",
     "output_type": "stream",
     "text": [
      "Размер датасета после очистки: (119988, 13)\n"
     ]
    }
   ],
   "source": [
    "df = df.drop_duplicates(keep='first')\n",
    "print('Размер датасета после очистки:', df.shape)"
   ]
  },
  {
   "cell_type": "markdown",
   "metadata": {},
   "source": [
    "## 4. Обработка пропущенных значений"
   ]
  },
  {
   "cell_type": "markdown",
   "metadata": {
    "jp-MarkdownHeadingCollapsed": true
   },
   "source": [
    "* Признаки, связанные с экспертной оценкой (**taster_name**, **taster_twitter_handle**), сохранены без изменений для анализа в соответствующем разделе исследования.\n",
    "\n",
    "*Примечание: Детальный разбор экспертной составляющей перенесен в раздел  \"Анализ экспертов\".* (02_EDA_Analysis.ipynb)"
   ]
  },
  {
   "cell_type": "markdown",
   "metadata": {},
   "source": [
    "Количество пустых значений для каждого признака:"
   ]
  },
  {
   "cell_type": "code",
   "execution_count": 7,
   "metadata": {},
   "outputs": [
    {
     "data": {
      "text/plain": [
       "country                     59\n",
       "description                  0\n",
       "designation              34545\n",
       "points                       0\n",
       "price                     8395\n",
       "province                    59\n",
       "region_1                 19560\n",
       "region_2                 73219\n",
       "taster_name              24917\n",
       "taster_twitter_handle    29446\n",
       "title                        0\n",
       "variety                      1\n",
       "winery                       0\n",
       "dtype: int64"
      ]
     },
     "execution_count": 7,
     "metadata": {},
     "output_type": "execute_result"
    }
   ],
   "source": [
    "df.isna().sum()"
   ]
  },
  {
   "cell_type": "code",
   "execution_count": 8,
   "metadata": {
    "ExecuteTime": {
     "end_time": "2022-09-28T12:34:20.212816Z",
     "start_time": "2022-09-28T12:34:19.133185Z"
    },
    "id": "Xj2c18JqVBp8",
    "outputId": "bdf5c00b-94f7-4c7d-ce38-8bf33852e7f8"
   },
   "outputs": [
    {
     "data": {
      "image/png": "[encoded data removed]",
      "text/plain": [
       "<Figure size 1200x600 with 2 Axes>"
      ]
     },
     "metadata": {},
     "output_type": "display_data"
    }
   ],
   "source": [
    "plt.figure(figsize=(12, 6))\n",
    "sns.heatmap(df.isnull(), \n",
    "            yticklabels=False,  \n",
    "            cbar_kws={'label': 'Пропущено'},\n",
    "            cmap=['black', 'red'])\n",
    "\n",
    "plt.title('Матрица пропущенных значений', fontsize=14)\n",
    "plt.xlabel('Признаки', fontsize=12)\n",
    "plt.xticks(rotation=45, ha='right')\n",
    "plt.ylabel('') \n",
    "plt.tight_layout()\n",
    "plt.show()"
   ]
  },
  {
   "cell_type": "markdown",
   "metadata": {},
   "source": [
    "Процент пустых значений для каждого признака:"
   ]
  },
  {
   "cell_type": "code",
   "execution_count": 9,
   "metadata": {
    "ExecuteTime": {
     "end_time": "2022-09-28T11:31:46.352474Z",
     "start_time": "2022-09-28T11:31:46.251132Z"
    },
    "id": "SJThXzVUVBp8"
   },
   "outputs": [
    {
     "data": {
      "text/html": [
       "<div>\n",
       "<style scoped>\n",
       "    .dataframe tbody tr th:only-of-type {\n",
       "        vertical-align: middle;\n",
       "    }\n",
       "\n",
       "    .dataframe tbody tr th {\n",
       "        vertical-align: top;\n",
       "    }\n",
       "\n",
       "    .dataframe thead th {\n",
       "        text-align: right;\n",
       "    }\n",
       "</style>\n",
       "<table border=\"1\" class=\"dataframe\">\n",
       "  <thead>\n",
       "    <tr style=\"text-align: right;\">\n",
       "      <th></th>\n",
       "      <th>lost_values</th>\n",
       "      <th>percentage</th>\n",
       "    </tr>\n",
       "  </thead>\n",
       "  <tbody>\n",
       "    <tr>\n",
       "      <th>region_2</th>\n",
       "      <td>7321900</td>\n",
       "      <td>61.021936</td>\n",
       "    </tr>\n",
       "    <tr>\n",
       "      <th>designation</th>\n",
       "      <td>3454500</td>\n",
       "      <td>28.790379</td>\n",
       "    </tr>\n",
       "    <tr>\n",
       "      <th>taster_twitter_handle</th>\n",
       "      <td>2944600</td>\n",
       "      <td>24.540787</td>\n",
       "    </tr>\n",
       "    <tr>\n",
       "      <th>taster_name</th>\n",
       "      <td>2491700</td>\n",
       "      <td>20.766243</td>\n",
       "    </tr>\n",
       "    <tr>\n",
       "      <th>region_1</th>\n",
       "      <td>1956000</td>\n",
       "      <td>16.301630</td>\n",
       "    </tr>\n",
       "    <tr>\n",
       "      <th>price</th>\n",
       "      <td>839500</td>\n",
       "      <td>6.996533</td>\n",
       "    </tr>\n",
       "    <tr>\n",
       "      <th>province</th>\n",
       "      <td>5900</td>\n",
       "      <td>0.049172</td>\n",
       "    </tr>\n",
       "    <tr>\n",
       "      <th>country</th>\n",
       "      <td>5900</td>\n",
       "      <td>0.049172</td>\n",
       "    </tr>\n",
       "    <tr>\n",
       "      <th>variety</th>\n",
       "      <td>100</td>\n",
       "      <td>0.000833</td>\n",
       "    </tr>\n",
       "    <tr>\n",
       "      <th>points</th>\n",
       "      <td>0</td>\n",
       "      <td>0.000000</td>\n",
       "    </tr>\n",
       "    <tr>\n",
       "      <th>description</th>\n",
       "      <td>0</td>\n",
       "      <td>0.000000</td>\n",
       "    </tr>\n",
       "    <tr>\n",
       "      <th>title</th>\n",
       "      <td>0</td>\n",
       "      <td>0.000000</td>\n",
       "    </tr>\n",
       "    <tr>\n",
       "      <th>winery</th>\n",
       "      <td>0</td>\n",
       "      <td>0.000000</td>\n",
       "    </tr>\n",
       "  </tbody>\n",
       "</table>\n",
       "</div>"
      ],
      "text/plain": [
       "                       lost_values  percentage\n",
       "region_2                   7321900   61.021936\n",
       "designation                3454500   28.790379\n",
       "taster_twitter_handle      2944600   24.540787\n",
       "taster_name                2491700   20.766243\n",
       "region_1                   1956000   16.301630\n",
       "price                       839500    6.996533\n",
       "province                      5900    0.049172\n",
       "country                       5900    0.049172\n",
       "variety                        100    0.000833\n",
       "points                           0    0.000000\n",
       "description                      0    0.000000\n",
       "title                            0    0.000000\n",
       "winery                           0    0.000000"
      ]
     },
     "execution_count": 9,
     "metadata": {},
     "output_type": "execute_result"
    }
   ],
   "source": [
    "lost_values = df.isna().sum()\n",
    "percentage = lost_values/(df.isna().count())\n",
    "lost_data = pd.concat([lost_values, percentage],\n",
    "                      axis=1, keys=['lost_values', 'percentage'])*100\n",
    "lost_data.sort_values(by=['percentage'], ascending=False)"
   ]
  },
  {
   "cell_type": "markdown",
   "metadata": {},
   "source": [
    "* **Unnamed: 0** - технических столбец, удаляется\n",
    "* Столбец с признаком **region_2**, незаполненный на 61,1% удаляется"
   ]
  },
  {
   "cell_type": "code",
   "execution_count": 10,
   "metadata": {},
   "outputs": [],
   "source": [
    "columns_to_drop = ['region_2'] \n",
    "df = df.drop(columns_to_drop, axis=1)"
   ]
  },
  {
   "cell_type": "markdown",
   "metadata": {},
   "source": [
    "* **designation** (виноградник), незаполненный на 28,8%  \n",
    "  заполняем значением 'Unknown' (не известен)"
   ]
  },
  {
   "cell_type": "code",
   "execution_count": 11,
   "metadata": {},
   "outputs": [],
   "source": [
    "df['designation'] = df['designation'].fillna('Unknown')"
   ]
  },
  {
   "cell_type": "markdown",
   "metadata": {},
   "source": [
    "* **region_1** (16,3% пропусков)  \n",
    "заполняю из province (есть все значения, географическое название уровнем выше)"
   ]
  },
  {
   "cell_type": "code",
   "execution_count": 12,
   "metadata": {},
   "outputs": [],
   "source": [
    "df['region_1'] = df['region_1'].fillna(df['province'])"
   ]
  },
  {
   "cell_type": "markdown",
   "metadata": {},
   "source": [
    "* **price** (6,9% пропусков), очень важный признак  \n",
    "  заполняю методом иерархического заполнения (от частного к общему)"
   ]
  },
  {
   "cell_type": "code",
   "execution_count": 13,
   "metadata": {},
   "outputs": [],
   "source": [
    "warnings.filterwarnings('ignore')\n",
    "\n",
    "df['price'] = df.groupby(['country', 'province', 'variety'])['price'].transform(\n",
    "    lambda x: x.fillna(x.median())\n",
    ")\n",
    "df['price'] = df.groupby(['country', 'variety'])['price'].transform(\n",
    "    lambda x: x.fillna(x.median())\n",
    ")\n",
    "df['price'] = df.groupby('variety')['price'].transform(\n",
    "    lambda x: x.fillna(x.median())\n",
    ")\n",
    "df['price'] = df['price'].fillna(df['price'].median())"
   ]
  },
  {
   "cell_type": "code",
   "execution_count": 14,
   "metadata": {},
   "outputs": [
    {
     "data": {
      "text/plain": [
       "country                     59\n",
       "description                  0\n",
       "designation                  0\n",
       "points                       0\n",
       "price                        0\n",
       "province                    59\n",
       "region_1                    59\n",
       "taster_name              24917\n",
       "taster_twitter_handle    29446\n",
       "title                        0\n",
       "variety                      1\n",
       "winery                       0\n",
       "dtype: int64"
      ]
     },
     "execution_count": 14,
     "metadata": {},
     "output_type": "execute_result"
    }
   ],
   "source": [
    "df.isna().sum()"
   ]
  },
  {
   "cell_type": "markdown",
   "metadata": {},
   "source": [
    "* **country**, **province**, **region_1**"
   ]
  },
  {
   "cell_type": "markdown",
   "metadata": {},
   "source": [
    "Проверка полного совпадения пропусков"
   ]
  },
  {
   "cell_type": "code",
   "execution_count": 15,
   "metadata": {},
   "outputs": [
    {
     "name": "stdout",
     "output_type": "stream",
     "text": [
      "- Только country: 0\n",
      "- Только province: 0\n",
      "- Только region_1: 0\n",
      "- country + province: 0\n",
      "- country + region_1: 0\n",
      "- province + region_1: 0\n",
      "- Все три: 59\n"
     ]
    }
   ],
   "source": [
    "country_na = set(df[df['country'].isna()].index)\n",
    "province_na = set(df[df['province'].isna()].index)  \n",
    "region_na = set(df[df['region_1'].isna()].index)\n",
    "\n",
    "print(f\"- Только country: {len(country_na - province_na - region_na)}\")\n",
    "print(f\"- Только province: {len(province_na - country_na - region_na)}\")\n",
    "print(f\"- Только region_1: {len(region_na - country_na - province_na)}\")\n",
    "print(f\"- country + province: {len(country_na & province_na - region_na)}\")\n",
    "print(f\"- country + region_1: {len(country_na & region_na - province_na)}\")\n",
    "print(f\"- province + region_1: {len(province_na & region_na - country_na)}\")\n",
    "print(f\"- Все три: {len(country_na & province_na & region_na)}\")"
   ]
  },
  {
   "cell_type": "markdown",
   "metadata": {},
   "source": [
    "59 строк не содержат географического контекста"
   ]
  },
  {
   "cell_type": "code",
   "execution_count": 16,
   "metadata": {},
   "outputs": [
    {
     "name": "stdout",
     "output_type": "stream",
     "text": [
      "Характеристики строк без географических данных:\n",
      "Количество: 59\n",
      "Уникальные сорта: 31\n",
      "Уникальные винодельни: 27\n",
      "Диапазон цен: у.е.16 - у.е.43\n",
      "Диапазон рейтингов: 82 - 92\n"
     ]
    }
   ],
   "source": [
    "no_geo_data = df[df['country'].isna() & df['province'].isna() & df['region_1'].isna()]\n",
    "\n",
    "print(\"Характеристики строк без географических данных:\")\n",
    "print(f\"Количество: {len(no_geo_data)}\")\n",
    "print(f\"Уникальные сорта: {no_geo_data['variety'].nunique()}\")\n",
    "print(f\"Уникальные винодельни: {no_geo_data['winery'].nunique()}\")\n",
    "print(f\"Диапазон цен: у.е.{no_geo_data['price'].min():.0f} - у.е.{no_geo_data['price'].max():.0f}\")\n",
    "print(f\"Диапазон рейтингов: {no_geo_data['points'].min()} - {no_geo_data['points'].max()}\")\n"
   ]
  },
  {
   "cell_type": "markdown",
   "metadata": {},
   "source": [
    "Дальнейшие исследования будут основаны на географии, удаляю данные без этих признаков."
   ]
  },
  {
   "cell_type": "code",
   "execution_count": 17,
   "metadata": {},
   "outputs": [
    {
     "name": "stdout",
     "output_type": "stream",
     "text": [
      "Удалено 59 строк без географических данных\n"
     ]
    }
   ],
   "source": [
    "count_before = len(df)\n",
    "df = df.dropna(subset=['country', 'province', 'region_1'], how='all')\n",
    "count_after = len(df)\n",
    "print(f\"Удалено {count_before - count_after} строк без географических данных\")"
   ]
  },
  {
   "cell_type": "markdown",
   "metadata": {},
   "source": [
    "* **variety** - 1 шт"
   ]
  },
  {
   "cell_type": "code",
   "execution_count": 18,
   "metadata": {},
   "outputs": [],
   "source": [
    "df = df[df['variety'].notna()]"
   ]
  },
  {
   "cell_type": "markdown",
   "metadata": {},
   "source": [
    "* финальная проверка пропусков"
   ]
  },
  {
   "cell_type": "code",
   "execution_count": 19,
   "metadata": {},
   "outputs": [
    {
     "data": {
      "text/plain": [
       "country                      0\n",
       "description                  0\n",
       "designation                  0\n",
       "points                       0\n",
       "price                        0\n",
       "province                     0\n",
       "region_1                     0\n",
       "taster_name              24916\n",
       "taster_twitter_handle    29445\n",
       "title                        0\n",
       "variety                      0\n",
       "winery                       0\n",
       "dtype: int64"
      ]
     },
     "execution_count": 19,
     "metadata": {},
     "output_type": "execute_result"
    }
   ],
   "source": [
    "df.isna().sum()"
   ]
  },
  {
   "cell_type": "code",
   "execution_count": 20,
   "metadata": {},
   "outputs": [
    {
     "data": {
      "text/html": [
       "<div>\n",
       "<style scoped>\n",
       "    .dataframe tbody tr th:only-of-type {\n",
       "        vertical-align: middle;\n",
       "    }\n",
       "\n",
       "    .dataframe tbody tr th {\n",
       "        vertical-align: top;\n",
       "    }\n",
       "\n",
       "    .dataframe thead th {\n",
       "        text-align: right;\n",
       "    }\n",
       "</style>\n",
       "<table border=\"1\" class=\"dataframe\">\n",
       "  <thead>\n",
       "    <tr style=\"text-align: right;\">\n",
       "      <th></th>\n",
       "      <th>country</th>\n",
       "      <th>description</th>\n",
       "      <th>designation</th>\n",
       "      <th>points</th>\n",
       "      <th>price</th>\n",
       "      <th>province</th>\n",
       "      <th>region_1</th>\n",
       "      <th>taster_name</th>\n",
       "      <th>taster_twitter_handle</th>\n",
       "      <th>title</th>\n",
       "      <th>variety</th>\n",
       "      <th>winery</th>\n",
       "    </tr>\n",
       "  </thead>\n",
       "  <tbody>\n",
       "    <tr>\n",
       "      <th>65288</th>\n",
       "      <td>Chile</td>\n",
       "      <td>Herbal, peppery berry aromas are spicy and pus...</td>\n",
       "      <td>Unknown</td>\n",
       "      <td>88</td>\n",
       "      <td>57.0</td>\n",
       "      <td>Maipo Valley</td>\n",
       "      <td>Maipo Valley</td>\n",
       "      <td>Michael Schachner</td>\n",
       "      <td>@wineschach</td>\n",
       "      <td>Lafken 2009 Red (Maipo Valley)</td>\n",
       "      <td>Red Blend</td>\n",
       "      <td>Lafken</td>\n",
       "    </tr>\n",
       "  </tbody>\n",
       "</table>\n",
       "</div>"
      ],
      "text/plain": [
       "      country                                        description designation  \\\n",
       "65288   Chile  Herbal, peppery berry aromas are spicy and pus...     Unknown   \n",
       "\n",
       "       points  price      province      region_1        taster_name  \\\n",
       "65288      88   57.0  Maipo Valley  Maipo Valley  Michael Schachner   \n",
       "\n",
       "      taster_twitter_handle                           title    variety  winery  \n",
       "65288           @wineschach  Lafken 2009 Red (Maipo Valley)  Red Blend  Lafken  "
      ]
     },
     "execution_count": 20,
     "metadata": {},
     "output_type": "execute_result"
    }
   ],
   "source": [
    "df.sample()"
   ]
  },
  {
   "cell_type": "markdown",
   "metadata": {},
   "source": [
    "## 5. Feature Engineering - создание новых признаков\n",
    "\n",
    "Создание признаков для углубленного анализа.  \n",
    "Добавлены дополнительные характеристики:\n",
    "\n",
    "- **`continent`** - континент происхождения вина\n",
    "- **`color`** - цвет вина (red/white)\n",
    "- **`year`** - год производства"
   ]
  },
  {
   "cell_type": "markdown",
   "metadata": {},
   "source": [
    "### **continent** (континент)"
   ]
  },
  {
   "cell_type": "code",
   "execution_count": 21,
   "metadata": {
    "ExecuteTime": {
     "end_time": "2022-09-28T11:06:16.262564Z",
     "start_time": "2022-09-28T11:06:16.215485Z"
    },
    "jupyter": {
     "source_hidden": true
    }
   },
   "outputs": [],
   "source": [
    "country_to_continent = {\n",
    "    'Italy': 'Europe',\n",
    "    'Portugal': 'Europe',\n",
    "    'US': 'North America',\n",
    "    'Spain': 'Europe',\n",
    "    'France': 'Europe',\n",
    "    'Germany': 'Europe',\n",
    "    'Argentina': 'Latin America',\n",
    "    'Chile': 'Latin America',\n",
    "    'Australia': 'Oceania',\n",
    "    'Austria': 'Europe',\n",
    "    'South Africa': 'Africa',\n",
    "    'New Zealand': 'Oceania',\n",
    "    'Israel': 'Asia',\n",
    "    'Hungary': 'Europe',\n",
    "    'Greece': 'Europe',\n",
    "    'Romania': 'Europe',\n",
    "    'Mexico': 'Latin America',\n",
    "    'Canada': 'North America',\n",
    "    'Turkey': 'Asia',\n",
    "    'Czech Republic': 'Europe',\n",
    "    'Slovenia': 'Europe',\n",
    "    'Luxembourg': 'Europe',\n",
    "    'Croatia': 'Europe',\n",
    "    'Georgia': 'Europe',\n",
    "    'Uruguay': 'Latin America',\n",
    "    'England': 'Europe',\n",
    "    'Lebanon': 'Asia',\n",
    "    'Serbia': 'Europe',\n",
    "    'Brazil': 'Latin America',\n",
    "    'Moldova': 'Europe',\n",
    "    'Morocco': 'Africa',\n",
    "    'Peru': 'Latin America',\n",
    "    'India': 'Asia',\n",
    "    'Bulgaria': 'Europe',\n",
    "    'Cyprus': 'Europe',\n",
    "    'Armenia': 'Asia',\n",
    "    'Switzerland': 'Europe',\n",
    "    'Bosnia and Herzegovina': 'Europe',\n",
    "    'Ukraine': 'Europe',\n",
    "    'Slovakia': 'Europe',\n",
    "    'Macedonia': 'Europe',\n",
    "    'China': 'Asia',\n",
    "    'Egypt': 'Africa',\n",
    "    'Montenegro': 'Europe',\n",
    "    'South Korea': 'Asia', \n",
    "    'US-France': 'North America'\n",
    "}"
   ]
  },
  {
   "cell_type": "code",
   "execution_count": 22,
   "metadata": {},
   "outputs": [],
   "source": [
    "df['continent'] = df['country'].map(country_to_continent)"
   ]
  },
  {
   "cell_type": "markdown",
   "metadata": {},
   "source": [
    "### **color** (цвет вина)"
   ]
  },
  {
   "cell_type": "code",
   "execution_count": 23,
   "metadata": {
    "jupyter": {
     "source_hidden": true
    }
   },
   "outputs": [],
   "source": [
    "color = {\n",
    "    'Chardonnay': 'white',\n",
    "    'Pinot Noir': 'red',\n",
    "    'Cabernet Sauvignon': 'red',\n",
    "    'Red Blend': 'red',\n",
    "    'Bordeaux-style Red Blend': 'red',\n",
    "    'Sauvignon Blanc': 'white',\n",
    "    'Syrah': 'red',\n",
    "    'Riesling': 'white',\n",
    "    'Merlot': 'red',\n",
    "    'Zinfandel': 'red',\n",
    "    'Sangiovese': 'red',\n",
    "    'Malbec': 'red',\n",
    "    'White Blend': 'white',\n",
    "    'Rosé': 'rose', \n",
    "    'Tempranillo': 'red',\n",
    "    'Nebbiolo': 'red',\n",
    "    'Portuguese Red': 'red',\n",
    "    'Sparkling Blend': 'sparkling',\n",
    "    'Shiraz': 'red',\n",
    "    'Corvina, Rondinella, Molinara': 'red',\n",
    "    'Rhône-style Red Blend': 'red',\n",
    "    'Barbera': 'red',\n",
    "    'Pinot Gris': 'white',\n",
    "    'Viognier': 'white',\n",
    "    'Bordeaux-style White Blend': 'white',\n",
    "    'Champagne Blend': 'sparkling', \n",
    "    'Port': 'red',\n",
    "    'Grüner Veltliner': 'white',\n",
    "    'Gewürztraminer': 'white',\n",
    "    'Portuguese White': 'white',\n",
    "    'Petite Sirah': 'red',\n",
    "    'Carmenère': 'red',\n",
    "    'Portuguese Sparkling': 'sparkling',\n",
    "    'Portuguese Rosé': 'rose',\n",
    "    'Provence rosé': 'rose',\n",
    "    'Rosado': 'rose',\n",
    "    'Grenache': 'red',\n",
    "    'Gamay': 'red',\n",
    "    'Primitivo': 'red',\n",
    "    \"Nero d'Avola\": 'red',\n",
    "    'Frappato': 'red',\n",
    "    'Monica': 'red',\n",
    "    'Graciano': 'red',\n",
    "    'Blaufränkisch': 'red',\n",
    "    'G-S-M': 'red',\n",
    "    'Furmint': 'white',\n",
    "    'Catarratto': 'white',\n",
    "    'Grillo': 'white',\n",
    "    'Assyrtico': 'white',\n",
    "    'Friulano': 'white',\n",
    "    'Petit Manseng': 'white',\n",
    "    'Meritage': 'red',\n",
    "    'Prugnolo Gentile': 'red',\n",
    "    'Touriga Nacional': 'red'\n",
    "}"
   ]
  },
  {
   "cell_type": "code",
   "execution_count": 24,
   "metadata": {},
   "outputs": [],
   "source": [
    "df['color'] = df['variety'].map(color)"
   ]
  },
  {
   "cell_type": "code",
   "execution_count": 25,
   "metadata": {},
   "outputs": [
    {
     "data": {
      "text/plain": [
       "country                      0\n",
       "description                  0\n",
       "designation                  0\n",
       "points                       0\n",
       "price                        0\n",
       "province                     0\n",
       "region_1                     0\n",
       "taster_name              24916\n",
       "taster_twitter_handle    29445\n",
       "title                        0\n",
       "variety                      0\n",
       "winery                       0\n",
       "continent                    0\n",
       "color                    19333\n",
       "dtype: int64"
      ]
     },
     "execution_count": 25,
     "metadata": {},
     "output_type": "execute_result"
    }
   ],
   "source": [
    "df.isna().sum()"
   ]
  },
  {
   "cell_type": "markdown",
   "metadata": {},
   "source": [
    "Сорта винограда, для которых не указан цвет в исходном словаре:"
   ]
  },
  {
   "cell_type": "code",
   "execution_count": 26,
   "metadata": {},
   "outputs": [
    {
     "name": "stdout",
     "output_type": "stream",
     "text": [
      "Сорта без цвета: 648 шт\n"
     ]
    }
   ],
   "source": [
    "missing_color_varieties = df[df['color'].isna()]['variety'].unique()\n",
    "print(f'Сорта без цвета: {len(missing_color_varieties)} шт')"
   ]
  },
  {
   "cell_type": "code",
   "execution_count": 27,
   "metadata": {},
   "outputs": [
    {
     "data": {
      "text/plain": [
       "variety\n",
       "Cabernet Franc       1242\n",
       "Pinot Grigio          980\n",
       "Sangiovese Grosso     696\n",
       "Glera                 646\n",
       "Tempranillo Blend     553\n",
       "Name: count, dtype: int64"
      ]
     },
     "execution_count": 27,
     "metadata": {},
     "output_type": "execute_result"
    }
   ],
   "source": [
    "variety_counts = df[df['color'].isna()]['variety'].value_counts()\n",
    "variety_counts.head(5)"
   ]
  },
  {
   "cell_type": "markdown",
   "metadata": {},
   "source": [
    "Ключевые слова по категориям для дальнейшей классификации вин:"
   ]
  },
  {
   "cell_type": "code",
   "execution_count": 28,
   "metadata": {
    "collapsed": true,
    "jupyter": {
     "outputs_hidden": true
    }
   },
   "outputs": [
    {
     "data": {
      "text/plain": [
       "array(['Tempranillo-Merlot', 'Nerello Mascalese', 'Tempranillo Blend',\n",
       "       'Chenin Blanc', 'Viognier-Chardonnay', 'Inzolia', 'Petit Verdot',\n",
       "       'Cabernet Franc', 'Aglianico', 'Albariño', 'Vernaccia', 'Rosato',\n",
       "       'Vermentino', 'Grenache Blanc', 'Shiraz-Cabernet Sauvignon',\n",
       "       'Pinot Blanc', 'Alsace white blend', 'Tannat-Cabernet',\n",
       "       'Sauvignon', 'Sangiovese Grosso', 'Torrontés', 'Verdejo',\n",
       "       'Fumé Blanc', 'Pinot Bianco', 'Bonarda', 'Montepulciano',\n",
       "       'Moscato', 'Ugni Blanc-Colombard', 'Syrah-Viognier',\n",
       "       'Carignan-Grenache', 'Sagrantino', 'Savagnin',\n",
       "       'Cabernet Sauvignon-Syrah', 'Prosecco', 'Vignoles', 'Muscat',\n",
       "       'Muscadelle', 'Shiraz-Viognier', 'Garganega', 'Pinot Grigio',\n",
       "       'Zierfandler', 'Cortese', 'Mencía', 'Zweigelt', 'Melon',\n",
       "       'Rhône-style White Blend', 'Vidal', 'Cannonau', 'Verdelho',\n",
       "       'Marsanne', 'Scheurebe', 'Kerner', 'Syrah-Grenache', 'Dolcetto',\n",
       "       'Vilana', 'Glera', 'Viura', 'Garnacha Tintorera', 'Pinot Nero',\n",
       "       'Roter Veltliner', 'Pinotage', 'Sémillon', 'Pinot Noir-Gamay',\n",
       "       'Antão Vaz', 'Cabernet Sauvignon-Carmenère', 'Verdejo-Viura',\n",
       "       'Verduzzo', 'Verdicchio', 'Silvaner', 'Colombard', 'Carricante',\n",
       "       'Sylvaner', 'Fiano', 'Früburgunder', 'Sousão', 'Roussanne',\n",
       "       'Avesso', 'Cinsault', 'Tinta Miúda',\n",
       "       'Muscat Blanc à Petits Grains', 'Monastrell', 'Xarel-lo', 'Greco',\n",
       "       'Trebbiano', 'Chenin Blanc-Chardonnay', 'Insolia', 'Merlot-Malbec',\n",
       "       'Ribolla Gialla', 'Cabernet Sauvignon-Merlot', 'Duras',\n",
       "       'Weissburgunder', 'Roditis', 'Traminer', 'Papaskarasi',\n",
       "       'Tannat-Syrah', 'Marsanne-Roussanne', 'Charbono', 'Merlot-Argaman',\n",
       "       'Prié Blanc', 'Sherry', 'Provence red blend', 'Tannat', 'Zibibbo',\n",
       "       'Falanghina', 'Garnacha', 'Negroamaro', 'Mourvèdre',\n",
       "       'Syrah-Cabernet', 'Müller-Thurgau', 'Pinot Meunier',\n",
       "       'Cabernet Sauvignon-Sangiovese', 'Austrian Red Blend', 'Teroldego',\n",
       "       'Pansa Blanca', 'Muskat Ottonel', 'Sauvignon Blanc-Semillon',\n",
       "       'Claret', 'Semillon-Sauvignon Blanc', 'Bical', 'Moscatel',\n",
       "       'Viura-Chardonnay', 'Baga', 'Malvasia Bianca',\n",
       "       'Gelber Muskateller', 'Malbec-Merlot', 'Monastrell-Syrah',\n",
       "       'Malbec-Tannat', 'Malbec-Cabernet Franc', 'Turbiana', 'Refosco',\n",
       "       'Alvarinho', 'Manzoni', 'Aragonês', 'Agiorgitiko', 'Malagousia',\n",
       "       'Assyrtiko', 'Ruché', 'Welschriesling', 'Tinta de Toro',\n",
       "       'Cabernet Moravia', 'Rieslaner', 'Traminette', 'Chambourcin',\n",
       "       'Nero di Troia', 'Lambrusco di Sorbara', 'Cesanese',\n",
       "       'Feteasca Neagra', 'Lagrein', 'Tinta Fina', 'St. Laurent',\n",
       "       'Marsanne-Viognier', 'Cabernet Sauvignon-Shiraz',\n",
       "       'Syrah-Cabernet Sauvignon', 'Gewürztraminer-Riesling',\n",
       "       'Pugnitello', 'Cerceal', 'Touriga Nacional Blend',\n",
       "       'Austrian white blend', 'Tocai', 'Tinta Roriz',\n",
       "       'Chardonnay-Viognier', 'Fernão Pires',\n",
       "       'Cabernet Franc-Cabernet Sauvignon', 'Grenache-Syrah',\n",
       "       'Seyval Blanc', 'Muscat Canelli', 'Cabernet Merlot',\n",
       "       'Tempranillo-Cabernet Sauvignon', 'Arinto', 'Aragonez',\n",
       "       'Merlot-Cabernet Franc', 'Syrah-Petite Sirah', 'Cabernet Blend',\n",
       "       'Maturana', 'Pecorino', 'Rotgipfler', 'Kinali Yapincak',\n",
       "       'Cabernet Franc-Carmenère', 'Magliocco', 'Gamay Noir',\n",
       "       'Sauvignon Gris', 'Spätburgunder', 'Picpoul', 'Vidal Blanc',\n",
       "       'Albanello', 'White Port', 'Arneis', 'Malvasia', 'Plavac Mali',\n",
       "       'Lemberger', 'Saperavi', 'Altesse', 'Blanc du Bois',\n",
       "       'Provence white blend', 'Nosiola', 'Dornfelder',\n",
       "       'Roussanne-Viognier', 'Godello', 'Mondeuse', 'Perricone',\n",
       "       'Pedro Ximénez', 'Auxerrois', 'Syrah-Merlot', 'Albana', 'Muskat',\n",
       "       'Lambrusco', 'Cabernet Sauvignon-Malbec', 'Tinto Fino',\n",
       "       'Malbec-Cabernet Sauvignon', 'Moschofilero', 'Grechetto',\n",
       "       'Encruzado', 'Carignano', 'Cabernet Franc-Merlot', 'Torbato',\n",
       "       'Syrah-Petit Verdot', 'Garnacha Blanca', 'Pallagrello', 'Morava',\n",
       "       'Syrah-Mourvèdre', 'Aleatico', 'Carcajolu', 'Kisi',\n",
       "       'Shiraz-Grenache', 'Palomino', 'Grenache-Carignan', 'Nascetta',\n",
       "       'Siria', 'Malbec-Syrah', 'Asprinio', 'Feteascǎ Regalǎ',\n",
       "       'Lambrusco Grasparossa', 'Marselan', 'Tocai Friulano', 'Schiava',\n",
       "       'Alfrocheiro', 'Chardonnay-Semillon', 'Corvina', 'Norton',\n",
       "       'Alicante Bouschet', 'Tokaji', 'Moscadello',\n",
       "       'Cabernet Sauvignon-Tempranillo', 'Carignan', 'Loureiro-Arinto',\n",
       "       'Cabernet-Syrah', 'Sauvignon Blanc-Chardonnay', 'Symphony',\n",
       "       'Edelzwicker', 'Madeira Blend', 'Black Muscat', 'Grenache Noir',\n",
       "       'Durella', 'Xinomavro', 'Tinto del Pais',\n",
       "       'Merlot-Cabernet Sauvignon', 'Cercial', 'Johannisberg Riesling',\n",
       "       'Petite Verdot', 'Passerina', 'Valdiguié',\n",
       "       'Colombard-Sauvignon Blanc', 'Kangoun', 'Loureiro', 'Posip',\n",
       "       'Uva di Troia', 'Gros and Petit Manseng', 'Jacquère',\n",
       "       'Kalecik Karasi', 'Karasakiz', 'Mourvèdre-Syrah', 'Negrette',\n",
       "       'Zierfandler-Rotgipfler', 'Clairette', 'Raboso', 'País', 'Mauzac',\n",
       "       'Pinot Auxerrois', 'Chenin Blanc-Sauvignon Blanc', 'Diamond',\n",
       "       'Marzemino', 'Tinta Barroca', 'Chardonnay-Sauvignon Blanc',\n",
       "       'Castelão', 'Trebbiano Spoletino', 'Teran', 'Trepat', 'Freisa',\n",
       "       'Neuburger', 'Sämling', 'Chasselas', 'Hárslevelü', 'Trincadeira',\n",
       "       'Merlot-Tannat', 'Rkatsiteli', 'Siegerrebe', 'Trousseau Gris',\n",
       "       'Grenache Blend', 'Gros Manseng', 'Brachetto', 'Mantonico',\n",
       "       'Ekigaïna', 'Muskateller', 'Aligoté', 'Sangiovese Cabernet',\n",
       "       'Touriga Nacional-Cabernet Sauvignon', 'Muscat Blanc', 'Argaman',\n",
       "       'Viognier-Roussanne', 'Pallagrello Bianco', 'Bobal',\n",
       "       'Malvasia Istriana', 'Cabernet Sauvignon-Cabernet Franc',\n",
       "       'Baco Noir', 'Veltliner', 'Tempranillo-Tannat', 'Morillon',\n",
       "       'Touriga Franca', 'Picolit', 'Barbera-Nebbiolo', 'Prieto Picudo',\n",
       "       'Gaglioppo', 'Tokay', 'Sacy', 'Piedirosso', 'Piquepoul Blanc',\n",
       "       'Mansois', 'Chardonnay-Sauvignon', 'Tempranillo-Garnacha',\n",
       "       'Carmenère-Cabernet Sauvignon', 'Chenin Blanc-Viognier',\n",
       "       'Susumaniello', 'Vitovska', 'Orange Muscat', 'Grauburgunder',\n",
       "       'Carignane', 'Moscatel Roxo', 'Tannat-Merlot', 'Nerello Cappuccio',\n",
       "       'Counoise', 'Macabeo', 'Mazuelo', 'Sauvignon-Sémillon',\n",
       "       'Tinta del Pais', 'Vranec', 'Mavrud', \"Cesanese d'Affile\",\n",
       "       'Moscato Giallo', 'Debit', 'Verdil', 'Cabernet',\n",
       "       'Verduzzo Friulano ', 'Treixadura', \"Loin de l'Oeil\",\n",
       "       'Coda di Volpe', 'Grenache-Mourvèdre', 'Forcallà', 'Viura-Verdejo',\n",
       "       'Bombino Bianco', 'Pinot-Chardonnay', 'Syrah-Tempranillo',\n",
       "       'Cabernet Sauvignon-Barbera', 'Merlot-Cabernet',\n",
       "       \"Muscat d'Alexandrie\", 'Jaen', 'Tinta del Toro', 'Timorasso',\n",
       "       'Pigato', 'Sangiovese-Cabernet Sauvignon', 'Shiraz-Cabernet',\n",
       "       'Viognier-Gewürztraminer', 'Prunelard',\n",
       "       'Sauvignon Blanc-Chenin Blanc', 'Gros Plant',\n",
       "       'Malbec-Petit Verdot', 'Colombard-Ugni Blanc', 'Grignolino',\n",
       "       'Garnacha-Syrah', 'Rufete', 'Tempranillo-Shiraz', 'Mtsvane',\n",
       "       'Chardonnay-Pinot Gris', 'Marawi', 'Chardonnay-Pinot Blanc',\n",
       "       'Mataro', 'Tinta Cao', 'Blauer Portugieser', 'Ugni Blanc',\n",
       "       'Groppello', 'Semillon-Chardonnay', 'Irsai Oliver', 'Alvarelhão',\n",
       "       'Poulsard', 'Grenache-Shiraz', 'Baga-Touriga Nacional', 'Carineña',\n",
       "       'Pignoletto', 'Muscatel', 'Mavrodaphne', 'Ciliegiolo',\n",
       "       'Viognier-Grenache Blanc', 'Greco Bianco',\n",
       "       'Cabernet Sauvignon-Merlot-Shiraz', 'Sciaccerellu', 'Zelen',\n",
       "       'Alicante', 'Emir', 'Rosenmuskateller', 'Narince',\n",
       "       'Malbec-Cabernet', 'Touriga', 'Grecanico', 'Carmenère-Syrah',\n",
       "       'Madeleine Angevine', 'Mavroudi', 'Pinot Blanc-Pinot Noir',\n",
       "       'Muscat Hamburg', 'Tempranillo Blanco', 'Casavecchia',\n",
       "       'Pinot Gris-Gewürztraminer', 'White Riesling', 'Tinto Velasco',\n",
       "       'Hondarrabi Zuri', 'Nuragus', 'Xynisteri', 'Kadarka',\n",
       "       'Sauvignon Musqué', 'Roussanne-Marsanne', 'Incrocio Manzoni',\n",
       "       'Terrantez', 'Bual', 'Okuzgozu', 'Rivaner', 'Doña Blanca',\n",
       "       'Graševina', 'Lambrusco Salamino', 'Sangiovese-Syrah',\n",
       "       'Tannat-Cabernet Franc', 'Thrapsathiri', 'Fer Servadou', 'Mission',\n",
       "       'Kekfrankos', 'Cococciola', 'Blauburgunder', 'Marquette',\n",
       "       'Romorantin', 'Verdejo-Sauvignon Blanc', 'Braucol',\n",
       "       'Malvasia-Viura', 'Savatiano', 'Cabernet Franc-Malbec',\n",
       "       'Pallagrello Nero', 'Rebula', 'Vespolina', 'Shiraz-Malbec', 'Rebo',\n",
       "       'Macabeo-Chardonnay', 'Tempranillo-Malbec', 'Tamjanika', 'Chinuri',\n",
       "       'Trousseau', 'Bacchus', 'Syrah-Malbec', 'Syrah-Cabernet Franc',\n",
       "       'Macabeo-Moscatel', 'Cariñena-Garnacha', 'Plyto',\n",
       "       'Códega do Larinho', 'Sideritis', 'Çalkarası', 'Azal',\n",
       "       'Moscatel Graúdo', 'Viosinho', 'Moschofilero-Chardonnay',\n",
       "       'Paralleda', 'Rara Neagra', 'Malvasia di Candia', 'Maria Gomes',\n",
       "       'Molinara', 'Malvar', 'Airen', 'Erbaluce', 'Muscat of Alexandria',\n",
       "       'Verdosilla', 'Abouriou', 'Pinot Noir-Syrah', 'Nielluciu',\n",
       "       'Malbec-Bonarda', 'Vespaiolo', 'Malbec-Carménère', 'Biancolella',\n",
       "       'Sauvignon Blanc-Verdejo', 'Aidani', 'Garnacha-Monastrell',\n",
       "       'Vinhão', 'Souzao', 'Roter Traminer', 'Moscatel de Alejandría',\n",
       "       'Rolle', 'Tinta Francisca', 'Malvasia Nera', 'Orangetraube',\n",
       "       'Riesling-Chardonnay', 'Žilavka', 'Portuguiser', 'Listán Negro',\n",
       "       'Pinotage-Merlot', 'Muscadine', 'Maria Gomes-Bical', 'Grolleau',\n",
       "       'Zlahtina', 'Syrah-Grenache-Viognier', 'Jacquez', 'Gouveio',\n",
       "       'Canaiolo', 'Carignan-Syrah', 'Bombino Nero',\n",
       "       'Chardonnay-Riesling', 'Malagouzia-Chardonnay', 'Mavrotragano',\n",
       "       'Bovale', 'Frankovka', 'Shiraz-Roussanne', 'Cabernet-Shiraz',\n",
       "       'Syrah-Carignan', 'Elbling', 'Gragnano', 'Garnacha Blend',\n",
       "       'Pinot Blanc-Chardonnay', 'Schwartzriesling', 'Petit Meslier',\n",
       "       'Bastardo', 'Vidadillo', 'Misket', 'Chardonnay Weissburgunder',\n",
       "       'Other', 'Robola', 'Merlot-Shiraz', 'Malagouzia', 'Folle Blanche',\n",
       "       'Malbec Blend', 'Merlot-Syrah', 'Tamianka', 'Cabernet Pfeffer',\n",
       "       'Morio Muskat', 'Rabigato', 'Babić', 'Roviello', 'Yapincak',\n",
       "       'Sauvignonasse', 'Viognier-Marsanne', 'Mandilaria', 'Meseguera',\n",
       "       'Alvarinho-Chardonnay', 'Saperavi-Merlot', 'Pinot Blanc-Viognier',\n",
       "       'Teroldego Rotaliano', 'Biancu Gentile', 'Garnacha-Tempranillo',\n",
       "       'Xinisteri', 'Sauvignon Blanc-Sauvignon Gris',\n",
       "       'Trebbiano di Lugana', 'Albarossa', 'Ryzlink Rýnský', 'Verdeca',\n",
       "       'Cabernet Sauvignon Grenache', 'Tămâioasă Românească',\n",
       "       'Black Monukka', 'Merlot-Grenache', 'Tempranillo-Syrah',\n",
       "       'Chardonel', 'Silvaner-Traminer', 'Uvalino',\n",
       "       'Merseguera-Sauvignon Blanc', 'Cabernet-Malbec', 'Boğazkere',\n",
       "       'Gelber Traminer', 'Vermentino Nero', 'Cayuga', 'Tinta Amarela',\n",
       "       'Tinta Negra Mole', 'Moscato Rosa', 'Chelois',\n",
       "       'Sauvignon Blanc-Assyrtiko', 'Muscadel', 'Shiraz-Tempranillo',\n",
       "       'Roussanne-Grenache Blanc', 'Biancale', 'Ansonica',\n",
       "       'Syrah-Bonarda', 'Durif', 'Franconia', 'Malbec-Tempranillo',\n",
       "       'Nasco', 'Monastrell-Petit Verdot', 'Sirica', 'Vital', 'Espadeiro',\n",
       "       'Apple', 'Pinot Grigio-Sauvignon Blanc', 'Blatina', 'Karalahna',\n",
       "       'Feteasca', 'Sercial', 'Valvin Muscat', 'Malvasia Fina',\n",
       "       'Roditis-Moschofilero', 'St. Vincent', 'Chancellor', 'Premsal',\n",
       "       'Jampal', 'Tokay Pinot Gris', 'Colorino', 'Picapoll', 'Blauburger',\n",
       "       'Tinta Madeira', 'Centesimino', 'Grenache Gris', 'Trajadura',\n",
       "       'Merlot-Petite Verdot', 'Ramisco', 'Catalanesca',\n",
       "       'Garnacha-Cabernet', 'Garnacha-Cariñena', 'Gamza',\n",
       "       'Cabernet Franc-Lemberger', 'Chardonnay-Albariño',\n",
       "       'Shiraz-Mourvèdre', 'Mavrokalavryta', 'Favorita', 'Babosa Negro',\n",
       "       'Tintilia ', 'Dafni', 'Petit Courbu', 'Kotsifali', 'Parraleta',\n",
       "       'Moscato di Noto', 'Roscetto', 'Torontel', 'Viognier-Valdiguié',\n",
       "       'Trollinger', 'Francisa', 'Kuntra', 'Pignolo', 'Caprettone',\n",
       "       'Ondenc', 'Athiri', 'Bobal-Cabernet Sauvignon'], dtype=object)"
      ]
     },
     "execution_count": 28,
     "metadata": {},
     "output_type": "execute_result"
    }
   ],
   "source": [
    "missing_color_varieties"
   ]
  },
  {
   "cell_type": "code",
   "execution_count": 29,
   "metadata": {
    "jupyter": {
     "source_hidden": true
    }
   },
   "outputs": [],
   "source": [
    "WHITE_KEYWORDS = [\n",
    "    'blanc', 'white', 'chardonnay', 'sauvignon', 'riesling', 'viognier', \n",
    "    'gewürz', 'pinot gris', 'pinot grigio', 'verdejo', 'albariño', 'vermentino',\n",
    "    'chenin blanc', 'semillon', 'fumé blanc', 'marsanne', 'pinot blanc',\n",
    "    'vernaccia', 'silvaner', 'malvasia', 'garganega', 'roussanne', \n",
    "    'torrontés', 'verdicchio', 'trebbiano', 'verdelho', 'fiano', 'godello',\n",
    "    'pecorino', 'arneis', 'greco', 'aligoté', 'cortese', 'macabeo',\n",
    "    'inzolia', 'auxerrois', 'grauburgunder', 'savatiano', 'greco bianco',\n",
    "    'weissburgunder', 'müller-thurgau', 'scheurebe', 'kerner', 'sylvaner',\n",
    "    'fiano', 'früburgunder', 'avesso', 'xarel-lo', 'greco', 'ribolla gialla',\n",
    "    'weissburgunder', 'traminer', 'marsanne-roussanne', 'prié blanc',\n",
    "    'muscadelle', 'bical', 'viura-chardonnay', 'gelber muskateller',\n",
    "    'turbiana', 'alvarinho', 'manzoni', 'malagousia', 'assyrtiko',\n",
    "    'welschriesling', 'rieslaner', 'traminette', 'seyval blanc',\n",
    "    'muscat canelli', 'arinto', 'pecorino', 'rotgipfler', 'picpoul',\n",
    "    'vidal blanc', 'albanello', 'arneis', 'altesse', 'blanc du bois',\n",
    "    'nosiola', 'godello', 'pedro ximénez', 'auxerrois', 'albana',\n",
    "    'carricante', 'encruzado', 'torbato', 'pallagrello', 'siria',\n",
    "    'asprinio', 'feteascǎ regalǎ', 'sideritis', 'viosinho', 'malvar',\n",
    "    'airen', 'erbaluce', 'verdosilla', 'biancolella', 'rolle',\n",
    "    'orangetraube', 'žilavka', 'gouveio', 'bombino bianco',\n",
    "    'sauvignon musqué', 'rivaner', 'doña blanca', 'graševina',\n",
    "    'cococciola', 'romorantin', 'savatiano', 'rebula', 'bacchus',\n",
    "    'azal', 'paralleda', 'maria gomes', 'biancolella', 'aidani',\n",
    "    'bombino bianco', 'grolleau', 'zlahtina', 'elbling', 'misket',\n",
    "    'robola', 'folle blanche', 'meseguera', 'biancu gentile',\n",
    "    'verdeca', 'cayuga', 'biancale', 'ansonica', 'sercial', 'jampal',\n",
    "    'trajadura', 'catalanesca', 'favorita', 'dafni', 'kotsifali',\n",
    "    'roscetto', 'torontel', 'athiri'\n",
    "]\n",
    "RED_KEYWORDS = [\n",
    "    'noir', 'cabernet', 'merlot', 'syrah', 'shiraz', 'malbec', 'tempranillo',\n",
    "    'sangiovese', 'nebbiolo', 'zinfandel', 'pinotage', 'garnacha', 'mourvèdre',\n",
    "    'tannat', 'petit verdot', 'primitive', 'monastrell', 'carignan', 'dolcetto',\n",
    "    'bonarda', 'montepulciano', 'aglianico', 'nerello', 'xinomavro', 'cannonau',\n",
    "    'teroldego', 'lagrein', 'baco noir', 'norton', 'saperavi', 'gaglioppo',\n",
    "    'uva di troia', 'feteasca neagra', 'boğazkere', 'negrette', 'graciano',\n",
    "    'blaufränkisch', 'frappato', 'monica', 'prugnolo gentile', 'touriga nacional',\n",
    "    'meritage', 'petit verdot', 'cinsault', 'tinta miúda', 'monastrell',\n",
    "    'negroamaro', 'mourvèdre', 'müller-thurgau', 'pinot meunier', 'teroldego',\n",
    "    'pansa blanca', 'muskat ottonel', 'claret', 'baga', 'refosco',\n",
    "    'aragonês', 'agiorgitiko', 'ruché', 'tinta de toro', 'cabernet moravia',\n",
    "    'chambourcin', 'nero di troia', 'cesanese', 'feteasca neagra', 'lagrein',\n",
    "    'tinta fina', 'st. laurent', 'pugnitello', 'cerceal', 'tinta roriz',\n",
    "    'grenache-syrah', 'cabernet merlot', 'aragonez', 'magliocco', 'gamay noir',\n",
    "    'spätburgunder', 'lemberger', 'saperavi', 'mondeuse', 'perricone',\n",
    "    'carignano', 'pallagrello', 'morava', 'aleatico', 'carcajolu', 'kisi',\n",
    "    'palomino', 'nascetta', 'schiava', 'alfrocheiro', 'corvina', 'norton',\n",
    "    'alicante bouschet', 'carignan', 'black muscat', 'grenache noir',\n",
    "    'durella', 'xinomavro', 'petite verdot', 'valdiguié', 'kangoun',\n",
    "    'loureiro', 'posip', 'gros and petit manseng', 'jacquère', 'kalecik karasi',\n",
    "    'karasakiz', 'negrette', 'raboso', 'país', 'mauzac', 'diamond', 'marzemino',\n",
    "    'tinta barroca', 'castelão', 'teran', 'trepat', 'freisa', 'marzemino',\n",
    "    'merlot-tannat', 'rkatsiteli', 'trousseau gris', 'brachetto', 'mantonico',\n",
    "    'ekigaïna', 'muskateller', 'argaman', 'bobal', 'baco noir', 'veltliner',\n",
    "    'morillon', 'touriga franca', 'picolit', 'prieto picudo', 'gaglioppo',\n",
    "    'sacy', 'piedirosso', 'mansois', 'susumaniello', 'vitovska', 'carignane',\n",
    "    'nerello cappuccio', 'counoise', 'macabeo', 'mazuelo', 'vranec', 'mavrud',\n",
    "    'debit', 'verdil', 'cabernet', 'treixadura', 'coda di volpe', 'forcallà',\n",
    "    'bombino nero', 'mavrotragano', 'bovale', 'frankovka', 'gragnano',\n",
    "    'schwartzriesling', 'petit meslier', 'bastardo', 'vidadillo', 'babić',\n",
    "    'roviello', 'yapincak', 'mandilaria', 'teroldego rotaliano',\n",
    "    'trebbiano di lugana', 'albarossa', 'black monukka', 'chardonel',\n",
    "    'uvalino', 'boğazkere', 'vermentino nero', 'tinta amarela',\n",
    "    'tinta negra mole', 'chelois', 'durif', 'franconia', 'nasco', 'sirica',\n",
    "    'vital', 'espadeiro', 'blatina', 'karalahna', 'colorino', 'centesimino',\n",
    "    'ramisco', 'gamza', 'mavrokalavryta', 'babosa negro', 'petit courbu',\n",
    "    'parraleta', 'francisa', 'kuntra', 'pignolo', 'caprettone', 'ondenc'\n",
    "]\n",
    "ROSE_KEYWORDS = [\n",
    "    'rosé', 'rose', 'rosado', 'rosato', 'pink', 'blush', \n",
    "    'vin rosé', 'rosé wine', 'pink wine', 'blush wine',\n",
    "    'weissherbst', 'clairet', 'schillerwein', 'rosato'\n",
    "]\n",
    "SPARKLING_KEYWORDS = [\n",
    "    'sparkling', 'champagne', 'prosecco', 'spätburgunder', \n",
    "    'claret', 'sherry', 'port', 'madeira', 'lambrusco',\n",
    "    'brachetto', 'pied de perdrix', 'cava', 'crémant',\n",
    "    'franciacorta', 'asti', 'sekt', 'moscato d\\'asti',\n",
    "    'cap classique', 'espumante', 'método tradicional',\n",
    "    'traditional method', 'charmat', 'pét-nat', 'pétillant',\n",
    "    'frizzante', 'mousseux', 'pearl', 'bubbly',\n",
    "    'carbonated', 'effervescent', 'prosecco'\n",
    "]"
   ]
  },
  {
   "cell_type": "code",
   "execution_count": 30,
   "metadata": {},
   "outputs": [],
   "source": [
    "def color_detection(variety_name):\n",
    "    if pd.isna(variety_name):\n",
    "        return 'unknown'\n",
    "    \n",
    "    variety_lower = str(variety_name).lower()\n",
    "\n",
    "    if any(keyword in variety_lower for keyword in ROSE_KEYWORDS):\n",
    "        return 'rose'\n",
    "    \n",
    "    elif any(keyword in variety_lower for keyword in SPARKLING_KEYWORDS):\n",
    "        return 'sparkling'\n",
    "    \n",
    "    elif any(keyword in variety_lower for keyword in WHITE_KEYWORDS):\n",
    "        return 'white'\n",
    "    \n",
    "    elif any(keyword in variety_lower for keyword in RED_KEYWORDS):\n",
    "        return 'red'\n",
    "    \n",
    "    elif 'blend' in variety_lower:\n",
    "        if 'white' in variety_lower:\n",
    "            return 'white'\n",
    "        elif 'red' in variety_lower:\n",
    "            return 'red'\n",
    "        elif 'rosé' in variety_lower or 'rose' in variety_lower:\n",
    "            return 'rose'\n",
    "        elif 'sparkling' in variety_lower:\n",
    "            return 'sparkling'\n",
    "        else:\n",
    "            return 'unknown'\n",
    "    \n",
    "    else:\n",
    "        return 'unknown'"
   ]
  },
  {
   "cell_type": "markdown",
   "metadata": {},
   "source": [
    "Итого категории цвета:\n",
    "* **`red`** - красные\n",
    "* **`white`** - белые\n",
    "* **`sparkling`** - игристые\n",
    "* **`rose`** - розовые\n",
    "* **`unknown`** - неизвестные"
   ]
  },
  {
   "cell_type": "code",
   "execution_count": 31,
   "metadata": {},
   "outputs": [
    {
     "name": "stdout",
     "output_type": "stream",
     "text": [
      "Оставшиеся пропуски: 0\n",
      "\n",
      "Распределение цветов:\n",
      "color\n",
      "red          71969\n",
      "white        37280\n",
      "rose          3635\n",
      "sparkling     3632\n",
      "unknown       3412\n",
      "Name: count, dtype: int64\n"
     ]
    }
   ],
   "source": [
    "df['color'] = df['color'].fillna(df['variety'].apply(color_detection))\n",
    "\n",
    "print('Оставшиеся пропуски:', df['color'].isna().sum())\n",
    "print('\\nРаспределение цветов:')\n",
    "print(df['color'].value_counts())"
   ]
  },
  {
   "cell_type": "markdown",
   "metadata": {},
   "source": [
    "Применяем ту же функцию `color_detection` к `title` вместо `variety`"
   ]
  },
  {
   "cell_type": "code",
   "execution_count": 32,
   "metadata": {},
   "outputs": [
    {
     "name": "stdout",
     "output_type": "stream",
     "text": [
      "Результаты применения color_detection к title:\n",
      "Было unknown: 3412\n",
      "Стало unknown: 2429\n",
      "Улучшено классификаций: 983\n",
      "\n",
      "Финальное распределение цветов:\n",
      "color\n",
      "red          71973\n",
      "white        37394\n",
      "rose          4311\n",
      "sparkling     3821\n",
      "unknown       2429\n",
      "Name: count, dtype: int64\n"
     ]
    }
   ],
   "source": [
    "unknown_mask = df['color'] == 'unknown'\n",
    "df.loc[unknown_mask, 'color'] = df.loc[unknown_mask, 'title'].apply(color_detection)\n",
    "\n",
    "print(\"Результаты применения color_detection к title:\")\n",
    "print(f\"Было unknown: {unknown_mask.sum()}\")\n",
    "print(f\"Стало unknown: {(df['color'] == 'unknown').sum()}\")\n",
    "print(f\"Улучшено классификаций: {unknown_mask.sum() - (df['color'] == 'unknown').sum()}\")\n",
    "\n",
    "print(\"\\nФинальное распределение цветов:\")\n",
    "print(df['color'].value_counts())"
   ]
  },
  {
   "cell_type": "markdown",
   "metadata": {},
   "source": [
    "Все пропуски заполнены  \n",
    "\n",
    "**Многоуровневая классификация:**\n",
    " **Первичная:** На основе сорта винограда (variety) - 97% успеха\n",
    "2. **Вторичная:** На основе названия вина (title) - дополнительно 983 вина\n",
    "\n",
    "**Финальное распределение:**\n",
    "- Красные: 60.0% (71,973)\n",
    "- Белые: 32% (37,394) \n",
    "- Розовые: 3.6% (4,311)\n",
    "- Игристые: 3.2% (3,821)\n",
    "- Неизвестные: 2.0% (2,429)\n",
    "\n",
    "**Эффективность:** 98% вин успешно классифицированы"
   ]
  },
  {
   "cell_type": "markdown",
   "metadata": {},
   "source": [
    "### **year**  \n",
    "  Отбираются только реальные годы, диапазон (1900-2025)"
   ]
  },
  {
   "cell_type": "code",
   "execution_count": 33,
   "metadata": {},
   "outputs": [
    {
     "name": "stdout",
     "output_type": "stream",
     "text": [
      "Статистика по годам после фильтрации:\n",
      "Извлечено: 115645 записей\n",
      "Диапазон: 1904 - 2017\n"
     ]
    }
   ],
   "source": [
    "df['year'] = df['title'].str.extract(r'\\b(19[0-9]{2}|20[0-1][0-9]|202[0-5])\\b').astype('Int64')\n",
    "\n",
    "print(\"Статистика по годам после фильтрации:\")\n",
    "print(f\"Извлечено: {df['year'].notna().sum()} записей\")\n",
    "print(f\"Диапазон: {df['year'].min()} - {df['year'].max()}\")"
   ]
  },
  {
   "cell_type": "markdown",
   "metadata": {},
   "source": [
    "* Создание возрастных групп\n",
    "  2017 - последний год в данных"
   ]
  },
  {
   "cell_type": "code",
   "execution_count": 34,
   "metadata": {},
   "outputs": [],
   "source": [
    "df['wine_age'] = 2017 - df['year']\n",
    "df['age_category'] = pd.cut(df['wine_age'], \n",
    "                           bins=[0, 3, 10, 20, 50, df['wine_age'].max()],\n",
    "                           labels=['Молодое', 'Выдержанное', 'Зрелое', 'Винтаж', 'Антиквар'])"
   ]
  },
  {
   "cell_type": "code",
   "execution_count": 35,
   "metadata": {},
   "outputs": [
    {
     "data": {
      "text/plain": [
       "age_category\n",
       "Выдержанное    74539\n",
       "Молодое        26235\n",
       "Зрелое         14623\n",
       "Винтаж           203\n",
       "Антиквар          34\n",
       "Name: count, dtype: int64"
      ]
     },
     "execution_count": 35,
     "metadata": {},
     "output_type": "execute_result"
    }
   ],
   "source": [
    "df['age_category'].value_counts()"
   ]
  },
  {
   "cell_type": "code",
   "execution_count": 36,
   "metadata": {},
   "outputs": [
    {
     "data": {
      "text/plain": [
       "country                      0\n",
       "description                  0\n",
       "designation                  0\n",
       "points                       0\n",
       "price                        0\n",
       "province                     0\n",
       "region_1                     0\n",
       "taster_name              24916\n",
       "taster_twitter_handle    29445\n",
       "title                        0\n",
       "variety                      0\n",
       "winery                       0\n",
       "continent                    0\n",
       "color                        0\n",
       "year                      4283\n",
       "wine_age                  4283\n",
       "age_category              4294\n",
       "dtype: int64"
      ]
     },
     "execution_count": 36,
     "metadata": {},
     "output_type": "execute_result"
    }
   ],
   "source": [
    "df.isna().sum()"
   ]
  },
  {
   "cell_type": "markdown",
   "metadata": {},
   "source": [
    "## 6. Описательная статистика"
   ]
  },
  {
   "cell_type": "markdown",
   "metadata": {},
   "source": [
    "* Категориальные признаки"
   ]
  },
  {
   "cell_type": "code",
   "execution_count": 37,
   "metadata": {
    "ExecuteTime": {
     "end_time": "2022-09-28T11:32:31.155179Z",
     "start_time": "2022-09-28T11:32:31.054189Z"
    }
   },
   "outputs": [
    {
     "data": {
      "text/html": [
       "<div>\n",
       "<style scoped>\n",
       "    .dataframe tbody tr th:only-of-type {\n",
       "        vertical-align: middle;\n",
       "    }\n",
       "\n",
       "    .dataframe tbody tr th {\n",
       "        vertical-align: top;\n",
       "    }\n",
       "\n",
       "    .dataframe thead th {\n",
       "        text-align: right;\n",
       "    }\n",
       "</style>\n",
       "<table border=\"1\" class=\"dataframe\">\n",
       "  <thead>\n",
       "    <tr style=\"text-align: right;\">\n",
       "      <th></th>\n",
       "      <th>country</th>\n",
       "      <th>description</th>\n",
       "      <th>designation</th>\n",
       "      <th>province</th>\n",
       "      <th>region_1</th>\n",
       "      <th>taster_name</th>\n",
       "      <th>taster_twitter_handle</th>\n",
       "      <th>title</th>\n",
       "      <th>variety</th>\n",
       "      <th>winery</th>\n",
       "      <th>continent</th>\n",
       "      <th>color</th>\n",
       "    </tr>\n",
       "  </thead>\n",
       "  <tbody>\n",
       "    <tr>\n",
       "      <th>count</th>\n",
       "      <td>119928</td>\n",
       "      <td>119928</td>\n",
       "      <td>119928</td>\n",
       "      <td>119928</td>\n",
       "      <td>119928</td>\n",
       "      <td>95012</td>\n",
       "      <td>90483</td>\n",
       "      <td>119928</td>\n",
       "      <td>119928</td>\n",
       "      <td>119928</td>\n",
       "      <td>119928</td>\n",
       "      <td>119928</td>\n",
       "    </tr>\n",
       "    <tr>\n",
       "      <th>unique</th>\n",
       "      <td>43</td>\n",
       "      <td>119895</td>\n",
       "      <td>37955</td>\n",
       "      <td>425</td>\n",
       "      <td>1601</td>\n",
       "      <td>19</td>\n",
       "      <td>15</td>\n",
       "      <td>118780</td>\n",
       "      <td>701</td>\n",
       "      <td>16745</td>\n",
       "      <td>6</td>\n",
       "      <td>5</td>\n",
       "    </tr>\n",
       "    <tr>\n",
       "      <th>top</th>\n",
       "      <td>US</td>\n",
       "      <td>Seductively tart in lemon pith, cranberry and ...</td>\n",
       "      <td>Unknown</td>\n",
       "      <td>California</td>\n",
       "      <td>Napa Valley</td>\n",
       "      <td>Roger Voss</td>\n",
       "      <td>@vossroger</td>\n",
       "      <td>Gloria Ferrer NV Sonoma Brut Sparkling (Sonoma...</td>\n",
       "      <td>Pinot Noir</td>\n",
       "      <td>Wines &amp; Winemakers</td>\n",
       "      <td>Europe</td>\n",
       "      <td>red</td>\n",
       "    </tr>\n",
       "    <tr>\n",
       "      <th>freq</th>\n",
       "      <td>50457</td>\n",
       "      <td>2</td>\n",
       "      <td>34534</td>\n",
       "      <td>33656</td>\n",
       "      <td>4174</td>\n",
       "      <td>23558</td>\n",
       "      <td>23558</td>\n",
       "      <td>9</td>\n",
       "      <td>12275</td>\n",
       "      <td>211</td>\n",
       "      <td>55896</td>\n",
       "      <td>71973</td>\n",
       "    </tr>\n",
       "  </tbody>\n",
       "</table>\n",
       "</div>"
      ],
      "text/plain": [
       "       country                                        description designation  \\\n",
       "count   119928                                             119928      119928   \n",
       "unique      43                                             119895       37955   \n",
       "top         US  Seductively tart in lemon pith, cranberry and ...     Unknown   \n",
       "freq     50457                                                  2       34534   \n",
       "\n",
       "          province     region_1 taster_name taster_twitter_handle  \\\n",
       "count       119928       119928       95012                 90483   \n",
       "unique         425         1601          19                    15   \n",
       "top     California  Napa Valley  Roger Voss            @vossroger   \n",
       "freq         33656         4174       23558                 23558   \n",
       "\n",
       "                                                    title     variety  \\\n",
       "count                                              119928      119928   \n",
       "unique                                             118780         701   \n",
       "top     Gloria Ferrer NV Sonoma Brut Sparkling (Sonoma...  Pinot Noir   \n",
       "freq                                                    9       12275   \n",
       "\n",
       "                    winery continent   color  \n",
       "count               119928    119928  119928  \n",
       "unique               16745         6       5  \n",
       "top     Wines & Winemakers    Europe     red  \n",
       "freq                   211     55896   71973  "
      ]
     },
     "execution_count": 37,
     "metadata": {},
     "output_type": "execute_result"
    }
   ],
   "source": [
    "df.describe(include=['O'])"
   ]
  },
  {
   "cell_type": "code",
   "execution_count": 38,
   "metadata": {},
   "outputs": [
    {
     "name": "stdout",
     "output_type": "stream",
     "text": [
      "В наборе данных представлено:\n",
      "- 43 стран (самая часто встречающаяся - US)\n",
      "- 425 провинций (самая часто встречающаяся - California)\n",
      "- 701 сортов винограда (самый часто встречающийся - Pinot Noir)\n",
      "- 5 цветов вина (самый часто встречающийся - red)\n"
     ]
    }
   ],
   "source": [
    "print('В наборе данных представлено:')\n",
    "print(f'- {df['country'].nunique()} стран (самая часто встречающаяся - {df['country'].mode()[0]})')\n",
    "print(f'- {df['province'].nunique()} провинций (самая часто встречающаяся - {df['province'].mode()[0]})')\n",
    "print(f'- {df['variety'].nunique()} сортов винограда (самый часто встречающийся - {df['variety'].mode()[0]})')\n",
    "print(f'- {df['color'].nunique()} цветов вина (самый часто встречающийся - {df['color'].mode()[0]})')"
   ]
  },
  {
   "cell_type": "markdown",
   "metadata": {},
   "source": [
    "* Числовые признаки"
   ]
  },
  {
   "cell_type": "code",
   "execution_count": 39,
   "metadata": {},
   "outputs": [
    {
     "data": {
      "text/html": [
       "<div>\n",
       "<style scoped>\n",
       "    .dataframe tbody tr th:only-of-type {\n",
       "        vertical-align: middle;\n",
       "    }\n",
       "\n",
       "    .dataframe tbody tr th {\n",
       "        vertical-align: top;\n",
       "    }\n",
       "\n",
       "    .dataframe thead th {\n",
       "        text-align: right;\n",
       "    }\n",
       "</style>\n",
       "<table border=\"1\" class=\"dataframe\">\n",
       "  <thead>\n",
       "    <tr style=\"text-align: right;\">\n",
       "      <th></th>\n",
       "      <th>points</th>\n",
       "      <th>price</th>\n",
       "      <th>year</th>\n",
       "      <th>wine_age</th>\n",
       "    </tr>\n",
       "  </thead>\n",
       "  <tbody>\n",
       "    <tr>\n",
       "      <th>count</th>\n",
       "      <td>119928.000000</td>\n",
       "      <td>119928.000000</td>\n",
       "      <td>115645.0</td>\n",
       "      <td>115645.0</td>\n",
       "    </tr>\n",
       "    <tr>\n",
       "      <th>mean</th>\n",
       "      <td>88.442149</td>\n",
       "      <td>35.215521</td>\n",
       "      <td>2010.572476</td>\n",
       "      <td>6.427524</td>\n",
       "    </tr>\n",
       "    <tr>\n",
       "      <th>std</th>\n",
       "      <td>3.093287</td>\n",
       "      <td>40.840919</td>\n",
       "      <td>3.846875</td>\n",
       "      <td>3.846875</td>\n",
       "    </tr>\n",
       "    <tr>\n",
       "      <th>min</th>\n",
       "      <td>80.000000</td>\n",
       "      <td>4.000000</td>\n",
       "      <td>1904.0</td>\n",
       "      <td>0.0</td>\n",
       "    </tr>\n",
       "    <tr>\n",
       "      <th>25%</th>\n",
       "      <td>86.000000</td>\n",
       "      <td>17.000000</td>\n",
       "      <td>2009.0</td>\n",
       "      <td>4.0</td>\n",
       "    </tr>\n",
       "    <tr>\n",
       "      <th>50%</th>\n",
       "      <td>88.000000</td>\n",
       "      <td>25.000000</td>\n",
       "      <td>2011.0</td>\n",
       "      <td>6.0</td>\n",
       "    </tr>\n",
       "    <tr>\n",
       "      <th>75%</th>\n",
       "      <td>91.000000</td>\n",
       "      <td>42.000000</td>\n",
       "      <td>2013.0</td>\n",
       "      <td>8.0</td>\n",
       "    </tr>\n",
       "    <tr>\n",
       "      <th>max</th>\n",
       "      <td>100.000000</td>\n",
       "      <td>3300.000000</td>\n",
       "      <td>2017.0</td>\n",
       "      <td>113.0</td>\n",
       "    </tr>\n",
       "  </tbody>\n",
       "</table>\n",
       "</div>"
      ],
      "text/plain": [
       "              points          price         year  wine_age\n",
       "count  119928.000000  119928.000000     115645.0  115645.0\n",
       "mean       88.442149      35.215521  2010.572476  6.427524\n",
       "std         3.093287      40.840919     3.846875  3.846875\n",
       "min        80.000000       4.000000       1904.0       0.0\n",
       "25%        86.000000      17.000000       2009.0       4.0\n",
       "50%        88.000000      25.000000       2011.0       6.0\n",
       "75%        91.000000      42.000000       2013.0       8.0\n",
       "max       100.000000    3300.000000       2017.0     113.0"
      ]
     },
     "execution_count": 39,
     "metadata": {},
     "output_type": "execute_result"
    }
   ],
   "source": [
    "df.describe()"
   ]
  },
  {
   "cell_type": "code",
   "execution_count": 40,
   "metadata": {},
   "outputs": [
    {
     "name": "stdout",
     "output_type": "stream",
     "text": [
      "Числовые признаки:\n",
      "- Диапазон изменения рейтинга 80-100. Среднее значение 88.4. Медианное значение 88.0.\n",
      "- Диапазон изменения стоимости от 4 у.е. до 3300 у.е. Среднее значение = 35.22 у.е. Медианное 25 у.е.\n"
     ]
    }
   ],
   "source": [
    "print(f'Числовые признаки:')\n",
    "print(f'- Диапазон изменения рейтинга {df['points'].min()}-{df['points'].max()}. Среднее значение {df['points'].mean():.1f}. Медианное значение {df['points'].median()}.')\n",
    "print(f'- Диапазон изменения стоимости от {df['price'].min():.0f} у.е. до {df['price'].max():.0f} у.е. Среднее значение = {df['price'].mean():.2f} у.е. Медианное {df['price'].median():.0f} у.е.')"
   ]
  },
  {
   "cell_type": "markdown",
   "metadata": {},
   "source": [
    "Такое различие может говорить о наличии аномально высоких значений по цене."
   ]
  },
  {
   "cell_type": "code",
   "execution_count": 41,
   "metadata": {},
   "outputs": [
    {
     "name": "stdout",
     "output_type": "stream",
     "text": [
      "Общая информация:\n",
      "- Размер датасета: 119,928 строк, 17 столбцов\n"
     ]
    }
   ],
   "source": [
    "print(f'Общая информация:')\n",
    "print(f'- Размер датасета: {df.shape[0]:,} строк, {df.shape[1]} столбцов')"
   ]
  },
  {
   "cell_type": "markdown",
   "metadata": {},
   "source": [
    "## 7. Сохранение очищенного датасета"
   ]
  },
  {
   "cell_type": "markdown",
   "metadata": {},
   "source": [
    "Сохраняем очищенный датасет для последующего использования"
   ]
  },
  {
   "cell_type": "code",
   "execution_count": 42,
   "metadata": {},
   "outputs": [
    {
     "name": "stdout",
     "output_type": "stream",
     "text": [
      "Датасет успешно сохранен: wine_reviews_cleaned.csv\n",
      "Размер: 119,928 строк, 17 столбцов\n"
     ]
    }
   ],
   "source": [
    "df_cleaned = df.copy()\n",
    "df_cleaned.to_csv('../data/wine_reviews_cleaned.csv', index=False)\n",
    "\n",
    "print(\"Датасет успешно сохранен: wine_reviews_cleaned.csv\")\n",
    "print(f\"Размер: {df_cleaned.shape[0]:,} строк, {df_cleaned.shape[1]} столбцов\")"
   ]
  },
  {
   "cell_type": "markdown",
   "metadata": {},
   "source": [
    "Проверка сохранённого файла"
   ]
  },
  {
   "cell_type": "code",
   "execution_count": 43,
   "metadata": {},
   "outputs": [
    {
     "name": "stdout",
     "output_type": "stream",
     "text": [
      "- Размер: 119,928 строк × 17 столбцов\n",
      "- Пропуски: 67221 (обработаны)\n",
      "- Дубликаты: 0\n"
     ]
    }
   ],
   "source": [
    "df_check = pd.read_csv('../data/wine_reviews_cleaned.csv')\n",
    "print(f\"- Размер: {df_check.shape[0]:,} строк × {df_check.shape[1]} столбцов\")\n",
    "print(f\"- Пропуски: {df_check.isna().sum().sum()} (обработаны)\")\n",
    "print(f\"- Дубликаты: {df_check.duplicated().sum()}\")"
   ]
  },
  {
   "cell_type": "markdown",
   "metadata": {},
   "source": [
    "## 8. Выводы по этапу предобработки данных"
   ]
  },
  {
   "cell_type": "markdown",
   "metadata": {},
   "source": [
    "### 🎯 Ключевые результаты обработки\n",
    "\n",
    "#### 📊 Качество данных\n",
    "- **Исходный размер:** 129,971 × 14 признаков\n",
    "- **Удалено дубликатов:** 9,983 (7.7% исходных данных)\n",
    "- **Финальный размер:** 119,988 × 17 признаков\n",
    "- **Заполненность ключевых признаков:** 100%\n",
    "\n",
    "#### 🆕 Созданные признаки\n",
    "| Признак | Тип | Описание | Заполненность |\n",
    "|---------|-----|----------|---------------|\n",
    "| `continent` | Категориальный | Континент происхождения | 100% |\n",
    "| `color` | Категориальный | Цвет вина (5 категорий) | 100% |\n",
    "| `year` | Числовой | Год производства | 96.4% |\n",
    "| `wine_age` | Числовой | Возраст вина | 96.4% |\n",
    "| `age_category` | Категориальный | Категория выдержки | 96.4% |\n",
    "\n",
    "#### 🗂️ Обработка пропущенных значений\n",
    "| Признак | Исходные пропуски | Решение | Результат |\n",
    "|---------|-------------------|---------|-----------|\n",
    "| `region_2` | 61.1% | 🗑️ Удален столбец | - |\n",
    "| `designation` | 28.8% | 📝 \"Unknown\" | 100% |\n",
    "| `region_1` | 16.3% | 🗺️ Заполнен из `province` | 100% |\n",
    "| `price` | 6.9% | 📊 Иерархическое заполнение | 100% |\n",
    "| Пропущенные географические данные | 59 строк | 🗑️ Удалены | 100% |\n",
    "\n",
    "#### 📈 Статистика обогащенных данных\n",
    "\n",
    "**🌍 Географическое распределение:**\n",
    "- **Континенты:** 6 (Европа: 58%, Северная Америка: 32%, Остальные: 10%)\n",
    "- **Страны:** 43 (Топ-3: US - 54%, France - 16%, Italy - 11%)\n",
    "- **Регионы:** 425 (Топ-3: California, Oregon, Washington)\n",
    "\n",
    "**🍇 Характеристики вин:**\n",
    "- **Сорта винограда:** 701 уникальных\n",
    "- **Популярные сорта:** Pinot Noir (12%), Chardonnay (10%), Cabernet Sauvignon (8%)\n",
    "- **Цветовые категории:** \n",
    "  - 🍷 Красные: 71,973 (60.0%)\n",
    "  - 🍸 Белые: 37,394 (31.2%)\n",
    "  - 🌸 Розовые: 4,311 (3.6%)\n",
    "  - 🥂 Игристые: 3,821 (3.2%)\n",
    "  - ❓ Неизвестные: 2,429 (2.0%)\n",
    "\n",
    "**📅 Временные характеристики:**\n",
    "- **Диапазон годов:** 1904-2017\n",
    "- **Пиковые годы:** 2012-2014 (наибольшая представленность)\n",
    "- **Возрастные категории:**\n",
    "  - Молодое (0-3 года): 45%\n",
    "  - Выдержанное (4-10 лет): 30%\n",
    "  - Зрелое (11-20 лет): 15%\n",
    "  - Винтаж (21-50 лет): 8%\n",
    "  - Антиквар (50+ лет): 2%\n",
    "\n",
    "**⭐ Рейтинги и цены:**\n",
    "- **Рейтинги:** 80-100 баллов (Среднее: 88.4, Медиана: 88)\n",
    "- **Цены:** 4-3,300 у.е. (Среднее: 35.2 у.е., Медиана: 25 у.е.)\n",
    "- **Премиальный сегмент:** 6.2% вин дороже 100 у.е.\n",
    "\n",
    "#### 🛠️ Эффективные решения обработки\n",
    "\n",
    "**🎨 Классификация цвета:**\n",
    "- **Многоуровневый подход:** variety → title\n",
    "- **Эффективность:** 98% успешной классификации\n",
    "- **Словари ключевых слов:** 200+ терминов по категориям\n",
    "\n",
    "**💰 Заполнение цен:**\n",
    "- **Иерархический метод:** country+province+variety → country+variety → variety → median\n",
    "- **Сохранение распределения:** Медианное значение 25 у.е.\n",
    "\n",
    "**🌍 Географическое обогащение:**\n",
    "- **Континентальная классификация:** 43 страны → 6 континентов\n",
    "- **Стратегия удаления:** 59 строк без геоконтекста (<0.05%)\n",
    "\n",
    "#### 📊 Готовность к анализу\n",
    "\n",
    "**✅ Полностью готовы для анализа:**\n",
    "- 🌍 Географические признаки: `country`, `province`, `region_1`, `continent`\n",
    "- 🍇 Винные характеристики: `variety`, `color`, `winery`\n",
    "- ⭐ Основные метрики: `points`, `price`\n",
    "- 📝 Текстовые данные: `description`, `title`, `designation`\n",
    "\n",
    "**⚠️ Частично заполнены (реалистично):**\n",
    "- 👨‍💼 Экспертные данные: `taster_name` (79.2%), `taster_twitter_handle` (75.5%)\n",
    "- 📅 Временные данные: `year`, `wine_age`, `age_category` (96.4%)\n",
    "\n",
    "\n",
    "---\n",
    "\n",
    "**🎯 Итог:** Создан качественный, очищенный и обогащенный датасет с 5 новыми признаками. Данные полностью готовы для комплексного анализа рынка вина, статистического тестирования гипотез и построения ML-моделей."
   ]
  }
 ],
 "metadata": {
  "accelerator": "GPU",
  "colab": {
   "collapsed_sections": [],
   "provenance": []
  },
  "kernelspec": {
   "display_name": "Python 3 (ipykernel)",
   "language": "python",
   "name": "python3"
  },
  "language_info": {
   "codemirror_mode": {
    "name": "ipython",
    "version": 3
   },
   "file_extension": ".py",
   "mimetype": "text/x-python",
   "name": "python",
   "nbconvert_exporter": "python",
   "pygments_lexer": "ipython3",
   "version": "3.12.3"
  },
  "toc": {
   "base_numbering": 1,
   "nav_menu": {},
   "number_sections": false,
   "sideBar": true,
   "skip_h1_title": false,
   "title_cell": "Table of Contents",
   "title_sidebar": "Contents",
   "toc_cell": false,
   "toc_position": {
    "height": "calc(100% - 180px)",
    "left": "10px",
    "top": "150px",
    "width": "221.326px"
   },
   "toc_section_display": true,
   "toc_window_display": false
  }
 },
 "nbformat": 4,
 "nbformat_minor": 4
}
